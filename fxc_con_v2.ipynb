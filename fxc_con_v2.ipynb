{
 "cells": [
  {
   "cell_type": "code",
   "execution_count": 1,
   "id": "d1d85275-3e57-4aac-b9d7-8552660fd22d",
   "metadata": {},
   "outputs": [],
   "source": [
    "import numpy as np\n",
    "import matplotlib.pyplot as plt \n",
    "import pandas as pd"
   ]
  },
  {
   "attachments": {},
   "cell_type": "markdown",
   "id": "c8d6bc00-1db0-4f25-a98a-1ba383c5fde3",
   "metadata": {},
   "source": [
    "# Si"
   ]
  },
  {
   "cell_type": "code",
   "execution_count": 2,
   "id": "7e3437fb",
   "metadata": {},
   "outputs": [],
   "source": [
    "si_data= pd.read_csv(\"si_qmc_dens_vxc.csv\",index_col=0)"
   ]
  },
  {
   "cell_type": "code",
   "execution_count": 3,
   "id": "17e2efe7",
   "metadata": {},
   "outputs": [],
   "source": [
    "newdens_QMC = si_data[\"density_qmc\"]\n",
    "newerbar_QMC = si_data[\"erbar_qmc\"]"
   ]
  },
  {
   "attachments": {},
   "cell_type": "markdown",
   "id": "992851f9",
   "metadata": {},
   "source": [
    "## Analyse"
   ]
  },
  {
   "cell_type": "code",
   "execution_count": null,
   "id": "96f6df09",
   "metadata": {},
   "outputs": [],
   "source": [
    "def get_data_from_npz(npz_file, it=-1): \n",
    "    hold= np.load(npz_file)\n",
    "    dens=hold[\"dens_history\"][it]\n",
    "    vxc=hold[\"potxc_history\"][it]\n",
    "    bands=hold[\"bands_history\"][it]\n",
    "    residu= hold[\"diff_l\"].real\n",
    "    direct_gap=(bands[0,4]-bands[0,3]) * 27.211\n",
    "    gap=np.min( np.abs(bands[:,4]-bands[0,3]) ) * 27.211\n",
    "    print(\"============\")\n",
    "    print(\"diff on density for the last iteration: {}\".format(residu[it]))\n",
    "    print(\"The direct gap is {}\".format(direct_gap))\n",
    "    print(\"The gap is {} for this k-grid \".format(direct_gap))    \n",
    "    print(\"============\")\n",
    "\n",
    "    return dens, vxc, direct_gap, gap, residu, bands "
   ]
  },
  {
   "cell_type": "code",
   "execution_count": null,
   "id": "06193348",
   "metadata": {},
   "outputs": [],
   "source": [
    "from plot_diff_si import * \n",
    "dens_con,_,_,_,_,_= get_data_from_npz(\"si_con_lda.npz\")\n",
    "dens_con2,_,_,_,_,_= get_data_from_npz(\"si_consym_old.npz\")\n",
    "\n",
    "diff_con1= get_dens_inSD_si(dens_con-newdens_QMC) \n",
    "#diff_consym_old=get_dens_inSD(dens_con2-newdens_QMC)\n",
    "diff_con2= diag_conLDA_NY-get_dens_inSD_si(newdens_QMC) \n",
    "\n",
    "diff_approx= [diff_con1, diff_con2] \n",
    "plot_diff_func(get_dens_inSD_si(newdens_QMC), diff_approx, [\"con1\",\"con2\"],erbar) "
   ]
  }
 ],
 "metadata": {
  "kernelspec": {
   "display_name": "Python 3 (ipykernel)",
   "language": "python",
   "name": "python3"
  },
  "language_info": {
   "codemirror_mode": {
    "name": "ipython",
    "version": 3
   },
   "file_extension": ".py",
   "mimetype": "text/x-python",
   "name": "python",
   "nbconvert_exporter": "python",
   "pygments_lexer": "ipython3",
   "version": "3.9.12"
  },
  "vscode": {
   "interpreter": {
    "hash": "9167b2c7f3ea44b7c717799806ddad2f3d4a21350f200bee4bbc71b60c7068f2"
   }
  }
 },
 "nbformat": 4,
 "nbformat_minor": 5
}
